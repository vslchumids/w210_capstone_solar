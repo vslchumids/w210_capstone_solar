{
 "cells": [
  {
   "cell_type": "code",
   "execution_count": 1,
   "metadata": {
    "collapsed": false
   },
   "outputs": [],
   "source": [
    "import pandas as pd\n",
    "from functools import reduce"
   ]
  },
  {
   "cell_type": "markdown",
   "metadata": {},
   "source": [
    "## Read in 2003 Data"
   ]
  },
  {
   "cell_type": "code",
   "execution_count": 70,
   "metadata": {
    "collapsed": false
   },
   "outputs": [],
   "source": [
    "#Read in files 2003 Consumption\n",
    "consump_03_01 = pd.read_csv('2003_Consumption/FILE01.csv')\n",
    "consump_03_01.columns = [col.strip() for col in consump_03_01.columns]\n",
    "consump_03_01 = consump_03_01[['PUBID8', 'REGION8', 'CENDIV8', 'SQFT8', 'PBA8', 'YRCON8', 'FREESTN8'\n",
    "                              ,'GLSSPC8', 'NELVTR8', 'NESLTR8', 'OPEN248', 'WKHRS8',\n",
    "                              'NWKER8']]\n",
    "\n",
    "consump_03_02 = pd.read_csv('2003_Consumption/FILE02.csv')\n",
    "consump_03_02.columns = [col.strip() for col in consump_03_02.columns]\n",
    "consump_03_02 = consump_03_02[['PUBID8', 'ONEACT8']]\n",
    "\n",
    "consump_03_04 = pd.read_csv('2003_Consumption/FILE04.csv')\n",
    "consump_03_04.columns = [col.strip() for col in consump_03_04.columns]\n",
    "consump_03_04 = consump_03_04[['PUBID8','RFGEQP8']]\n",
    "\n",
    "consump_03_05 = pd.read_csv('2003_Consumption/FILE05.csv')\n",
    "consump_03_05.columns = [col.strip() for col in consump_03_05.columns]\n",
    "consump_03_05 = consump_03_05[['PUBID8','ELHT18', 'ELCOOL8','ELWATR8','ELCOOK8','ELMANU8']]\n",
    "\n",
    "consump_03_15 = pd.read_csv('2003_Consumption/FILE15.csv')\n",
    "consump_03_15.columns = [col.strip() for col in consump_03_15.columns]\n",
    "consump_03_15 = consump_03_15[['PUBID8','ELCNS8']]\n",
    "\n",
    "#Merge Dataframes\n",
    "dfs = [consump_03_01, consump_03_02, consump_03_04, consump_03_05, consump_03_15]\n",
    "consump_03 = reduce(lambda left,right: pd.merge(left,right,on='PUBID8'), dfs)\n",
    "\n",
    "consump_03['YEAR'] = 2013"
   ]
  },
  {
   "cell_type": "markdown",
   "metadata": {
    "collapsed": true
   },
   "source": [
    "## Read in 2012 Data"
   ]
  },
  {
   "cell_type": "code",
   "execution_count": 5,
   "metadata": {
    "collapsed": false
   },
   "outputs": [],
   "source": [
    "consump_12 = pd.read_csv('2012_public_use_data_aug2016.csv')\n",
    "\n",
    "consump_12 = consump_12[['PUBID', 'REGION', 'CENDIV', 'SQFT', 'PBA','YRCON','FREESTN', 'NELVTR','NESLTR', 'GLSSPC',\n",
    "          'OPEN24', 'WKHRS', 'NWKER', 'ONEACT', 'RFGEQP', 'ELHT1', 'ELCOOL', 'ELWATR', 'ELCOOK', 'ELMANU',\n",
    "          'ELCNS']]\n",
    "\n",
    "consump_12['YEAR'] = 2012"
   ]
  },
  {
   "cell_type": "markdown",
   "metadata": {},
   "source": [
    "## Merge Years "
   ]
  },
  {
   "cell_type": "code",
   "execution_count": 85,
   "metadata": {
    "collapsed": false
   },
   "outputs": [],
   "source": [
    "for i in consump_03.columns:\n",
    "    consump_03[i] = pd.to_numeric(consump_03[i], errors = 'coerce')\n",
    "    \n",
    "consump_03.columns = list(consump_12.columns)\n",
    "\n",
    "consump_all = pd.concat([consump_12,consump_03])"
   ]
  },
  {
   "cell_type": "code",
   "execution_count": null,
   "metadata": {
    "collapsed": true
   },
   "outputs": [],
   "source": []
  }
 ],
 "metadata": {
  "anaconda-cloud": {},
  "kernelspec": {
   "display_name": "Python [conda root]",
   "language": "python",
   "name": "conda-root-py"
  },
  "language_info": {
   "codemirror_mode": {
    "name": "ipython",
    "version": 3
   },
   "file_extension": ".py",
   "mimetype": "text/x-python",
   "name": "python",
   "nbconvert_exporter": "python",
   "pygments_lexer": "ipython3",
   "version": "3.5.2"
  }
 },
 "nbformat": 4,
 "nbformat_minor": 2
}
