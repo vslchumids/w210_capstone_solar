{
 "cells": [
  {
   "cell_type": "code",
   "execution_count": 1,
   "metadata": {
    "collapsed": true
   },
   "outputs": [],
   "source": [
    "import pandas as pd\n",
    "import numpy as np\n",
    "from functools import reduce\n",
    "import statsmodels.api as sm"
   ]
  },
  {
   "cell_type": "markdown",
   "metadata": {},
   "source": [
    "## Read in 2003 Data"
   ]
  },
  {
   "cell_type": "code",
   "execution_count": 2,
   "metadata": {
    "collapsed": true
   },
   "outputs": [],
   "source": [
    "#Read in files 2003 Consumption\n",
    "consump_03_01 = pd.read_csv('2003_Consumption/FILE01.csv')\n",
    "consump_03_01.columns = [col.strip() for col in consump_03_01.columns]\n",
    "consump_03_01 = consump_03_01[['PUBID8', 'REGION8', 'CENDIV8', 'SQFT8', 'PBA8', 'YRCON8', 'FREESTN8'\n",
    "                              ,'GLSSPC8', 'NELVTR8', 'NESLTR8', 'OPEN248', 'WKHRS8',\n",
    "                              'NWKER8','OPNWE8']]\n",
    "\n",
    "consump_03_02 = pd.read_csv('2003_Consumption/FILE02.csv')\n",
    "consump_03_02.columns = [col.strip() for col in consump_03_02.columns]\n",
    "consump_03_02 = consump_03_02[['PUBID8', 'ONEACT8']]\n",
    "\n",
    "consump_03_04 = pd.read_csv('2003_Consumption/FILE04.csv')\n",
    "consump_03_04.columns = [col.strip() for col in consump_03_04.columns]\n",
    "consump_03_04 = consump_03_04[['PUBID8','RFGEQP8']]\n",
    "\n",
    "consump_03_05 = pd.read_csv('2003_Consumption/FILE05.csv')\n",
    "consump_03_05.columns = [col.strip() for col in consump_03_05.columns]\n",
    "consump_03_05 = consump_03_05[['PUBID8','ELHT18', 'ELCOOL8','ELWATR8','ELCOOK8','ELMANU8']]\n",
    "\n",
    "consump_03_15 = pd.read_csv('2003_Consumption/FILE15.csv')\n",
    "consump_03_15.columns = [col.strip() for col in consump_03_15.columns]\n",
    "consump_03_15 = consump_03_15[['PUBID8','ELCNS8']]\n",
    "\n",
    "#Merge Dataframes\n",
    "dfs = [consump_03_01, consump_03_02, consump_03_04, consump_03_05, consump_03_15]\n",
    "consump_03 = reduce(lambda left,right: pd.merge(left,right,on='PUBID8'), dfs)\n",
    "\n",
    "consump_03['YEAR'] = 2003"
   ]
  },
  {
   "cell_type": "markdown",
   "metadata": {
    "collapsed": true
   },
   "source": [
    "## Read in 2012 Data"
   ]
  },
  {
   "cell_type": "code",
   "execution_count": 3,
   "metadata": {
    "collapsed": true
   },
   "outputs": [],
   "source": [
    "consump_12 = pd.read_csv('2012_public_use_data_aug2016.csv')\n",
    "\n",
    "consump_12 = consump_12[['PUBID', 'REGION', 'CENDIV', 'SQFT', 'PBA','YRCON','FREESTN', 'NELVTR','NESLTR', 'GLSSPC',\n",
    "          'OPEN24', 'WKHRS', 'NWKER', 'OPNWE', 'ONEACT', 'RFGEQP', 'ELHT1', 'ELCOOL', 'ELWATR', 'ELCOOK', 'ELMANU',\n",
    "          'ELCNS']]\n",
    "\n",
    "consump_12['YEAR'] = 2012"
   ]
  },
  {
   "cell_type": "markdown",
   "metadata": {},
   "source": [
    "There are climate fields PUBCLIM in 2012 and CLIMAT in 2003 that refer to a climate type a building is located.  These are based on the number of heating and cooling days.  We could potentially use this as a consumption feature by tying zipcodes to NOAA data which has the heating/cooling days for each of the stations.\n",
    "\n",
    "GlassPercent Categories are different, might need to standardize these if we actually use them"
   ]
  },
  {
   "cell_type": "markdown",
   "metadata": {},
   "source": [
    "## Merge Years & Data Standarization "
   ]
  },
  {
   "cell_type": "code",
   "execution_count": 4,
   "metadata": {
    "collapsed": true
   },
   "outputs": [],
   "source": [
    "for i in consump_03.columns:\n",
    "    consump_03[i] = pd.to_numeric(consump_03[i], errors = 'coerce')\n",
    "    \n",
    "consump_03.columns = list(consump_12.columns)\n",
    "\n",
    "consump_all = pd.concat([consump_12,consump_03])"
   ]
  },
  {
   "cell_type": "code",
   "execution_count": 5,
   "metadata": {
    "collapsed": true
   },
   "outputs": [],
   "source": [
    "PBA_Dict = {\n",
    "1:'Vacant',\n",
    "2:'Office',\n",
    "4:'Laboratory',\n",
    "5:'Nonrefrigerated warehouse',\n",
    "6:'Food sales',\n",
    "7:'Public order and safety',\n",
    "8:'Outpatient health care',\n",
    "11:'Refrigerated warehouse',\n",
    "12:'Religious worship',\n",
    "13:'Public assembly',\n",
    "14:'Education',\n",
    "15:'Food service',\n",
    "16:'Inpatient health care',\n",
    "17:'Nursing',\n",
    "18:'Lodging',\n",
    "23:'Strip shopping mall',\n",
    "24:'Enclosed mall',\n",
    "25:'Retail other than mall',\n",
    "26:'Service',\n",
    "91: 'Other'}"
   ]
  },
  {
   "cell_type": "code",
   "execution_count": 6,
   "metadata": {
    "collapsed": true
   },
   "outputs": [],
   "source": [
    "pba_list = []\n",
    "for i in consump_all['PBA']:\n",
    "    pba_list.append(PBA_Dict[i])\n",
    "\n",
    "consump_all['PBA_Detail'] = pd.Series(pba_list)"
   ]
  },
  {
   "cell_type": "code",
   "execution_count": 7,
   "metadata": {
    "collapsed": true
   },
   "outputs": [],
   "source": [
    "consump_all['NELVTR'] = consump_all['NELVTR'].fillna(value=0)\n",
    "consump_all['NESLTR'] = consump_all['NESLTR'].fillna(value=0)"
   ]
  },
  {
   "cell_type": "code",
   "execution_count": 8,
   "metadata": {
    "collapsed": true
   },
   "outputs": [],
   "source": [
    "#Filter for freestanding building with a single primary activity\n",
    "consump_filtered = consump_all.loc[(consump_all['FREESTN'] == 1) & (consump_all['ONEACT'] == 1)]\n",
    "consump_filtered = consump_filtered.dropna(axis=0, how = 'any')\n",
    "\n",
    "binary_fix = ['OPEN24','RFGEQP', 'ELHT1','ELCOOL','ELWATR', 'ELCOOK', 'ELMANU', 'OPNWE']\n",
    "for column in binary_fix:\n",
    "    consump_filtered[column] = consump_filtered[column].replace(to_replace = 2, value = 0)\n",
    "    \n",
    "max_val_fix = ['NELVTR', 'NESLTR']\n",
    "for column in binary_fix:\n",
    "    consump_filtered[column] = consump_filtered[column].replace(to_replace = 995, value = 51)"
   ]
  },
  {
   "cell_type": "code",
   "execution_count": 9,
   "metadata": {
    "collapsed": true
   },
   "outputs": [],
   "source": [
    "consump_all.to_csv('merged_consumption.csv')"
   ]
  },
  {
   "cell_type": "markdown",
   "metadata": {},
   "source": [
    "# Regression Modeling "
   ]
  },
  {
   "cell_type": "code",
   "execution_count": 61,
   "metadata": {
    "collapsed": false
   },
   "outputs": [
    {
     "data": {
      "text/plain": [
       "Index([u'PUBID', u'REGION', u'CENDIV', u'SQFT', u'PBA', u'YRCON', u'FREESTN',\n",
       "       u'NELVTR', u'NESLTR', u'GLSSPC', u'OPEN24', u'WKHRS', u'NWKER',\n",
       "       u'OPNWE', u'ONEACT', u'RFGEQP', u'ELHT1', u'ELCOOL', u'ELWATR',\n",
       "       u'ELCOOK', u'ELMANU', u'ELCNS', u'YEAR', u'PBA_Detail'],\n",
       "      dtype='object')"
      ]
     },
     "execution_count": 61,
     "metadata": {},
     "output_type": "execute_result"
    }
   ],
   "source": [
    "consump_filtered.columns"
   ]
  },
  {
   "cell_type": "code",
   "execution_count": 62,
   "metadata": {
    "collapsed": false
   },
   "outputs": [
    {
     "data": {
      "text/html": [
       "<table class=\"simpletable\">\n",
       "<caption>OLS Regression Results</caption>\n",
       "<tr>\n",
       "  <th>Dep. Variable:</th>          <td>ELCNS</td>      <th>  R-squared:         </th> <td>   0.632</td> \n",
       "</tr>\n",
       "<tr>\n",
       "  <th>Model:</th>                   <td>OLS</td>       <th>  Adj. R-squared:    </th> <td>   0.631</td> \n",
       "</tr>\n",
       "<tr>\n",
       "  <th>Method:</th>             <td>Least Squares</td>  <th>  F-statistic:       </th> <td>   750.2</td> \n",
       "</tr>\n",
       "<tr>\n",
       "  <th>Date:</th>             <td>Mon, 02 Apr 2018</td> <th>  Prob (F-statistic):</th>  <td>  0.00</td>  \n",
       "</tr>\n",
       "<tr>\n",
       "  <th>Time:</th>                 <td>11:51:55</td>     <th>  Log-Likelihood:    </th> <td> -95866.</td> \n",
       "</tr>\n",
       "<tr>\n",
       "  <th>No. Observations:</th>      <td>  5687</td>      <th>  AIC:               </th> <td>1.918e+05</td>\n",
       "</tr>\n",
       "<tr>\n",
       "  <th>Df Residuals:</th>          <td>  5673</td>      <th>  BIC:               </th> <td>1.919e+05</td>\n",
       "</tr>\n",
       "<tr>\n",
       "  <th>Df Model:</th>              <td>    13</td>      <th>                     </th>     <td> </td>    \n",
       "</tr>\n",
       "<tr>\n",
       "  <th>Covariance Type:</th>      <td>nonrobust</td>    <th>                     </th>     <td> </td>    \n",
       "</tr>\n",
       "</table>\n",
       "<table class=\"simpletable\">\n",
       "<tr>\n",
       "     <td></td>       <th>coef</th>     <th>std err</th>      <th>t</th>      <th>P>|t|</th>  <th>[0.025</th>    <th>0.975]</th>  \n",
       "</tr>\n",
       "<tr>\n",
       "  <th>const</th>  <td> -5.71e+05</td> <td> 2.65e+05</td> <td>   -2.154</td> <td> 0.031</td> <td>-1.09e+06</td> <td>-5.14e+04</td>\n",
       "</tr>\n",
       "<tr>\n",
       "  <th>SQFT</th>   <td>   15.8728</td> <td>    0.409</td> <td>   38.835</td> <td> 0.000</td> <td>   15.072</td> <td>   16.674</td>\n",
       "</tr>\n",
       "<tr>\n",
       "  <th>WKHRS</th>  <td>-6242.8584</td> <td> 3115.092</td> <td>   -2.004</td> <td> 0.045</td> <td>-1.23e+04</td> <td> -136.088</td>\n",
       "</tr>\n",
       "<tr>\n",
       "  <th>NWKER</th>  <td> 3590.0365</td> <td>  180.012</td> <td>   19.943</td> <td> 0.000</td> <td> 3237.145</td> <td> 3942.928</td>\n",
       "</tr>\n",
       "<tr>\n",
       "  <th>OPEN24</th> <td> 2.502e+06</td> <td> 3.69e+05</td> <td>    6.784</td> <td> 0.000</td> <td> 1.78e+06</td> <td> 3.22e+06</td>\n",
       "</tr>\n",
       "<tr>\n",
       "  <th>NELVTR</th> <td> 1.671e+04</td> <td> 1633.212</td> <td>   10.233</td> <td> 0.000</td> <td> 1.35e+04</td> <td> 1.99e+04</td>\n",
       "</tr>\n",
       "<tr>\n",
       "  <th>NESLTR</th> <td> 3917.6349</td> <td> 1847.927</td> <td>    2.120</td> <td> 0.034</td> <td>  294.992</td> <td> 7540.277</td>\n",
       "</tr>\n",
       "<tr>\n",
       "  <th>RFGEQP</th> <td>-1.435e+05</td> <td> 2.05e+05</td> <td>   -0.701</td> <td> 0.484</td> <td>-5.45e+05</td> <td> 2.58e+05</td>\n",
       "</tr>\n",
       "<tr>\n",
       "  <th>ELHT1</th>  <td> 9.123e+04</td> <td> 1.55e+05</td> <td>    0.589</td> <td> 0.556</td> <td>-2.12e+05</td> <td> 3.95e+05</td>\n",
       "</tr>\n",
       "<tr>\n",
       "  <th>ELCOOL</th> <td> 2.621e+05</td> <td> 2.28e+05</td> <td>    1.147</td> <td> 0.251</td> <td>-1.86e+05</td> <td>  7.1e+05</td>\n",
       "</tr>\n",
       "<tr>\n",
       "  <th>ELWATR</th> <td>-8.689e+04</td> <td> 1.46e+05</td> <td>   -0.595</td> <td> 0.552</td> <td>-3.73e+05</td> <td> 1.99e+05</td>\n",
       "</tr>\n",
       "<tr>\n",
       "  <th>ELCOOK</th> <td> 2.588e+05</td> <td> 1.58e+05</td> <td>    1.639</td> <td> 0.101</td> <td>-5.07e+04</td> <td> 5.68e+05</td>\n",
       "</tr>\n",
       "<tr>\n",
       "  <th>ELMANU</th> <td> 2.402e+05</td> <td> 3.58e+05</td> <td>    0.671</td> <td> 0.502</td> <td>-4.61e+05</td> <td> 9.42e+05</td>\n",
       "</tr>\n",
       "<tr>\n",
       "  <th>OPNWE</th>  <td> 4.297e+05</td> <td> 1.67e+05</td> <td>    2.573</td> <td> 0.010</td> <td> 1.02e+05</td> <td> 7.57e+05</td>\n",
       "</tr>\n",
       "</table>\n",
       "<table class=\"simpletable\">\n",
       "<tr>\n",
       "  <th>Omnibus:</th>       <td>11495.911</td> <th>  Durbin-Watson:     </th>   <td>   1.992</td>  \n",
       "</tr>\n",
       "<tr>\n",
       "  <th>Prob(Omnibus):</th>  <td> 0.000</td>   <th>  Jarque-Bera (JB):  </th> <td>60215669.417</td>\n",
       "</tr>\n",
       "<tr>\n",
       "  <th>Skew:</th>           <td>16.304</td>   <th>  Prob(JB):          </th>   <td>    0.00</td>  \n",
       "</tr>\n",
       "<tr>\n",
       "  <th>Kurtosis:</th>       <td>506.047</td>  <th>  Cond. No.          </th>   <td>1.71e+06</td>  \n",
       "</tr>\n",
       "</table>"
      ],
      "text/plain": [
       "<class 'statsmodels.iolib.summary.Summary'>\n",
       "\"\"\"\n",
       "                            OLS Regression Results                            \n",
       "==============================================================================\n",
       "Dep. Variable:                  ELCNS   R-squared:                       0.632\n",
       "Model:                            OLS   Adj. R-squared:                  0.631\n",
       "Method:                 Least Squares   F-statistic:                     750.2\n",
       "Date:                Mon, 02 Apr 2018   Prob (F-statistic):               0.00\n",
       "Time:                        11:51:55   Log-Likelihood:                -95866.\n",
       "No. Observations:                5687   AIC:                         1.918e+05\n",
       "Df Residuals:                    5673   BIC:                         1.919e+05\n",
       "Df Model:                          13                                         \n",
       "Covariance Type:            nonrobust                                         \n",
       "==============================================================================\n",
       "                 coef    std err          t      P>|t|      [0.025      0.975]\n",
       "------------------------------------------------------------------------------\n",
       "const       -5.71e+05   2.65e+05     -2.154      0.031   -1.09e+06   -5.14e+04\n",
       "SQFT          15.8728      0.409     38.835      0.000      15.072      16.674\n",
       "WKHRS      -6242.8584   3115.092     -2.004      0.045   -1.23e+04    -136.088\n",
       "NWKER       3590.0365    180.012     19.943      0.000    3237.145    3942.928\n",
       "OPEN24      2.502e+06   3.69e+05      6.784      0.000    1.78e+06    3.22e+06\n",
       "NELVTR      1.671e+04   1633.212     10.233      0.000    1.35e+04    1.99e+04\n",
       "NESLTR      3917.6349   1847.927      2.120      0.034     294.992    7540.277\n",
       "RFGEQP     -1.435e+05   2.05e+05     -0.701      0.484   -5.45e+05    2.58e+05\n",
       "ELHT1       9.123e+04   1.55e+05      0.589      0.556   -2.12e+05    3.95e+05\n",
       "ELCOOL      2.621e+05   2.28e+05      1.147      0.251   -1.86e+05     7.1e+05\n",
       "ELWATR     -8.689e+04   1.46e+05     -0.595      0.552   -3.73e+05    1.99e+05\n",
       "ELCOOK      2.588e+05   1.58e+05      1.639      0.101   -5.07e+04    5.68e+05\n",
       "ELMANU      2.402e+05   3.58e+05      0.671      0.502   -4.61e+05    9.42e+05\n",
       "OPNWE       4.297e+05   1.67e+05      2.573      0.010    1.02e+05    7.57e+05\n",
       "==============================================================================\n",
       "Omnibus:                    11495.911   Durbin-Watson:                   1.992\n",
       "Prob(Omnibus):                  0.000   Jarque-Bera (JB):         60215669.417\n",
       "Skew:                          16.304   Prob(JB):                         0.00\n",
       "Kurtosis:                     506.047   Cond. No.                     1.71e+06\n",
       "==============================================================================\n",
       "\n",
       "Warnings:\n",
       "[1] Standard Errors assume that the covariance matrix of the errors is correctly specified.\n",
       "[2] The condition number is large, 1.71e+06. This might indicate that there are\n",
       "strong multicollinearity or other numerical problems.\n",
       "\"\"\""
      ]
     },
     "execution_count": 62,
     "metadata": {},
     "output_type": "execute_result"
    }
   ],
   "source": [
    "X = consump_filtered[['SQFT', 'WKHRS', 'NWKER','OPEN24','NELVTR', 'NESLTR','RFGEQP', 'ELHT1',\n",
    "                      'ELCOOL', 'ELWATR', 'ELCOOK', 'ELMANU', 'OPNWE']]\n",
    "y = consump_filtered['ELCNS']\n",
    "X = sm.add_constant(X)\n",
    "model = sm.OLS(y, X).fit()\n",
    "#predictions = model.predict(X)\n",
    "model.summary()"
   ]
  },
  {
   "cell_type": "markdown",
   "metadata": {},
   "source": [
    "# Business Specific Models"
   ]
  },
  {
   "cell_type": "code",
   "execution_count": 63,
   "metadata": {
    "collapsed": false
   },
   "outputs": [
    {
     "data": {
      "text/html": [
       "<table class=\"simpletable\">\n",
       "<caption>OLS Regression Results</caption>\n",
       "<tr>\n",
       "  <th>Dep. Variable:</th>          <td>ELCNS</td>      <th>  R-squared:         </th> <td>   0.699</td> \n",
       "</tr>\n",
       "<tr>\n",
       "  <th>Model:</th>                   <td>OLS</td>       <th>  Adj. R-squared:    </th> <td>   0.695</td> \n",
       "</tr>\n",
       "<tr>\n",
       "  <th>Method:</th>             <td>Least Squares</td>  <th>  F-statistic:       </th> <td>   200.9</td> \n",
       "</tr>\n",
       "<tr>\n",
       "  <th>Date:</th>             <td>Mon, 02 Apr 2018</td> <th>  Prob (F-statistic):</th> <td>3.72e-282</td>\n",
       "</tr>\n",
       "<tr>\n",
       "  <th>Time:</th>                 <td>11:51:55</td>     <th>  Log-Likelihood:    </th> <td> -18726.</td> \n",
       "</tr>\n",
       "<tr>\n",
       "  <th>No. Observations:</th>      <td>  1139</td>      <th>  AIC:               </th> <td>3.748e+04</td>\n",
       "</tr>\n",
       "<tr>\n",
       "  <th>Df Residuals:</th>          <td>  1125</td>      <th>  BIC:               </th> <td>3.755e+04</td>\n",
       "</tr>\n",
       "<tr>\n",
       "  <th>Df Model:</th>              <td>    13</td>      <th>                     </th>     <td> </td>    \n",
       "</tr>\n",
       "<tr>\n",
       "  <th>Covariance Type:</th>      <td>nonrobust</td>    <th>                     </th>     <td> </td>    \n",
       "</tr>\n",
       "</table>\n",
       "<table class=\"simpletable\">\n",
       "<tr>\n",
       "     <td></td>       <th>coef</th>     <th>std err</th>      <th>t</th>      <th>P>|t|</th>  <th>[0.025</th>    <th>0.975]</th>  \n",
       "</tr>\n",
       "<tr>\n",
       "  <th>const</th>  <td>-2.852e+05</td> <td> 7.19e+05</td> <td>   -0.397</td> <td> 0.692</td> <td> -1.7e+06</td> <td> 1.13e+06</td>\n",
       "</tr>\n",
       "<tr>\n",
       "  <th>SQFT</th>   <td>   11.4248</td> <td>    0.750</td> <td>   15.225</td> <td> 0.000</td> <td>    9.952</td> <td>   12.897</td>\n",
       "</tr>\n",
       "<tr>\n",
       "  <th>WKHRS</th>  <td>-1.244e+04</td> <td> 8399.036</td> <td>   -1.481</td> <td> 0.139</td> <td>-2.89e+04</td> <td> 4037.813</td>\n",
       "</tr>\n",
       "<tr>\n",
       "  <th>NWKER</th>  <td> 1894.9051</td> <td>  283.450</td> <td>    6.685</td> <td> 0.000</td> <td> 1338.755</td> <td> 2451.055</td>\n",
       "</tr>\n",
       "<tr>\n",
       "  <th>OPEN24</th> <td> 2.347e+06</td> <td> 9.64e+05</td> <td>    2.434</td> <td> 0.015</td> <td> 4.55e+05</td> <td> 4.24e+06</td>\n",
       "</tr>\n",
       "<tr>\n",
       "  <th>NELVTR</th> <td> 1.687e+04</td> <td> 2238.490</td> <td>    7.537</td> <td> 0.000</td> <td> 1.25e+04</td> <td> 2.13e+04</td>\n",
       "</tr>\n",
       "<tr>\n",
       "  <th>NESLTR</th> <td>-1362.4837</td> <td> 3441.325</td> <td>   -0.396</td> <td> 0.692</td> <td>-8114.621</td> <td> 5389.653</td>\n",
       "</tr>\n",
       "<tr>\n",
       "  <th>RFGEQP</th> <td> 1.977e+05</td> <td> 2.87e+05</td> <td>    0.688</td> <td> 0.491</td> <td>-3.66e+05</td> <td> 7.61e+05</td>\n",
       "</tr>\n",
       "<tr>\n",
       "  <th>ELHT1</th>  <td> 3.894e+05</td> <td> 2.25e+05</td> <td>    1.734</td> <td> 0.083</td> <td>-5.13e+04</td> <td>  8.3e+05</td>\n",
       "</tr>\n",
       "<tr>\n",
       "  <th>ELCOOL</th> <td> 6.093e+05</td> <td> 5.59e+05</td> <td>    1.090</td> <td> 0.276</td> <td>-4.87e+05</td> <td> 1.71e+06</td>\n",
       "</tr>\n",
       "<tr>\n",
       "  <th>ELWATR</th> <td>-2.713e+05</td> <td> 2.23e+05</td> <td>   -1.214</td> <td> 0.225</td> <td> -7.1e+05</td> <td> 1.67e+05</td>\n",
       "</tr>\n",
       "<tr>\n",
       "  <th>ELCOOK</th> <td> 2.372e+05</td> <td>  2.7e+05</td> <td>    0.879</td> <td> 0.380</td> <td>-2.92e+05</td> <td> 7.67e+05</td>\n",
       "</tr>\n",
       "<tr>\n",
       "  <th>ELMANU</th> <td>-1.949e+05</td> <td> 6.48e+05</td> <td>   -0.301</td> <td> 0.764</td> <td>-1.47e+06</td> <td> 1.08e+06</td>\n",
       "</tr>\n",
       "<tr>\n",
       "  <th>OPNWE</th>  <td> 6.215e+05</td> <td> 2.36e+05</td> <td>    2.633</td> <td> 0.009</td> <td> 1.58e+05</td> <td> 1.08e+06</td>\n",
       "</tr>\n",
       "</table>\n",
       "<table class=\"simpletable\">\n",
       "<tr>\n",
       "  <th>Omnibus:</th>       <td>2090.106</td> <th>  Durbin-Watson:     </th>  <td>   1.974</td>  \n",
       "</tr>\n",
       "<tr>\n",
       "  <th>Prob(Omnibus):</th>  <td> 0.000</td>  <th>  Jarque-Bera (JB):  </th> <td>3445554.569</td>\n",
       "</tr>\n",
       "<tr>\n",
       "  <th>Skew:</th>           <td>12.621</td>  <th>  Prob(JB):          </th>  <td>    0.00</td>  \n",
       "</tr>\n",
       "<tr>\n",
       "  <th>Kurtosis:</th>       <td>271.262</td> <th>  Cond. No.          </th>  <td>3.41e+06</td>  \n",
       "</tr>\n",
       "</table>"
      ],
      "text/plain": [
       "<class 'statsmodels.iolib.summary.Summary'>\n",
       "\"\"\"\n",
       "                            OLS Regression Results                            \n",
       "==============================================================================\n",
       "Dep. Variable:                  ELCNS   R-squared:                       0.699\n",
       "Model:                            OLS   Adj. R-squared:                  0.695\n",
       "Method:                 Least Squares   F-statistic:                     200.9\n",
       "Date:                Mon, 02 Apr 2018   Prob (F-statistic):          3.72e-282\n",
       "Time:                        11:51:55   Log-Likelihood:                -18726.\n",
       "No. Observations:                1139   AIC:                         3.748e+04\n",
       "Df Residuals:                    1125   BIC:                         3.755e+04\n",
       "Df Model:                          13                                         \n",
       "Covariance Type:            nonrobust                                         \n",
       "==============================================================================\n",
       "                 coef    std err          t      P>|t|      [0.025      0.975]\n",
       "------------------------------------------------------------------------------\n",
       "const      -2.852e+05   7.19e+05     -0.397      0.692    -1.7e+06    1.13e+06\n",
       "SQFT          11.4248      0.750     15.225      0.000       9.952      12.897\n",
       "WKHRS      -1.244e+04   8399.036     -1.481      0.139   -2.89e+04    4037.813\n",
       "NWKER       1894.9051    283.450      6.685      0.000    1338.755    2451.055\n",
       "OPEN24      2.347e+06   9.64e+05      2.434      0.015    4.55e+05    4.24e+06\n",
       "NELVTR      1.687e+04   2238.490      7.537      0.000    1.25e+04    2.13e+04\n",
       "NESLTR     -1362.4837   3441.325     -0.396      0.692   -8114.621    5389.653\n",
       "RFGEQP      1.977e+05   2.87e+05      0.688      0.491   -3.66e+05    7.61e+05\n",
       "ELHT1       3.894e+05   2.25e+05      1.734      0.083   -5.13e+04     8.3e+05\n",
       "ELCOOL      6.093e+05   5.59e+05      1.090      0.276   -4.87e+05    1.71e+06\n",
       "ELWATR     -2.713e+05   2.23e+05     -1.214      0.225    -7.1e+05    1.67e+05\n",
       "ELCOOK      2.372e+05    2.7e+05      0.879      0.380   -2.92e+05    7.67e+05\n",
       "ELMANU     -1.949e+05   6.48e+05     -0.301      0.764   -1.47e+06    1.08e+06\n",
       "OPNWE       6.215e+05   2.36e+05      2.633      0.009    1.58e+05    1.08e+06\n",
       "==============================================================================\n",
       "Omnibus:                     2090.106   Durbin-Watson:                   1.974\n",
       "Prob(Omnibus):                  0.000   Jarque-Bera (JB):          3445554.569\n",
       "Skew:                          12.621   Prob(JB):                         0.00\n",
       "Kurtosis:                     271.262   Cond. No.                     3.41e+06\n",
       "==============================================================================\n",
       "\n",
       "Warnings:\n",
       "[1] Standard Errors assume that the covariance matrix of the errors is correctly specified.\n",
       "[2] The condition number is large, 3.41e+06. This might indicate that there are\n",
       "strong multicollinearity or other numerical problems.\n",
       "\"\"\""
      ]
     },
     "execution_count": 63,
     "metadata": {},
     "output_type": "execute_result"
    }
   ],
   "source": [
    "#Office Model\n",
    "\n",
    "office_df = consump_filtered.loc[consump_filtered['PBA_Detail'] == 'Office']\n",
    "\n",
    "X = office_df[['SQFT', 'WKHRS', 'NWKER','OPEN24','NELVTR', 'NESLTR','RFGEQP', 'ELHT1',\n",
    "                      'ELCOOL', 'ELWATR', 'ELCOOK', 'ELMANU', 'OPNWE']]\n",
    "y = office_df['ELCNS']\n",
    "X = sm.add_constant(X)\n",
    "model = sm.OLS(y, X).fit()\n",
    "#predictions = model.predict(X)\n",
    "model.summary()"
   ]
  },
  {
   "cell_type": "code",
   "execution_count": 64,
   "metadata": {
    "collapsed": false
   },
   "outputs": [
    {
     "data": {
      "text/html": [
       "<table class=\"simpletable\">\n",
       "<caption>OLS Regression Results</caption>\n",
       "<tr>\n",
       "  <th>Dep. Variable:</th>          <td>ELCNS</td>      <th>  R-squared:         </th> <td>   0.983</td> \n",
       "</tr>\n",
       "<tr>\n",
       "  <th>Model:</th>                   <td>OLS</td>       <th>  Adj. R-squared:    </th> <td>   0.983</td> \n",
       "</tr>\n",
       "<tr>\n",
       "  <th>Method:</th>             <td>Least Squares</td>  <th>  F-statistic:       </th> <td>   1433.</td> \n",
       "</tr>\n",
       "<tr>\n",
       "  <th>Date:</th>             <td>Mon, 02 Apr 2018</td> <th>  Prob (F-statistic):</th> <td>5.71e-272</td>\n",
       "</tr>\n",
       "<tr>\n",
       "  <th>Time:</th>                 <td>11:51:56</td>     <th>  Log-Likelihood:    </th> <td> -4723.6</td> \n",
       "</tr>\n",
       "<tr>\n",
       "  <th>No. Observations:</th>      <td>   330</td>      <th>  AIC:               </th> <td>   9475.</td> \n",
       "</tr>\n",
       "<tr>\n",
       "  <th>Df Residuals:</th>          <td>   316</td>      <th>  BIC:               </th> <td>   9528.</td> \n",
       "</tr>\n",
       "<tr>\n",
       "  <th>Df Model:</th>              <td>    13</td>      <th>                     </th>     <td> </td>    \n",
       "</tr>\n",
       "<tr>\n",
       "  <th>Covariance Type:</th>      <td>nonrobust</td>    <th>                     </th>     <td> </td>    \n",
       "</tr>\n",
       "</table>\n",
       "<table class=\"simpletable\">\n",
       "<tr>\n",
       "     <td></td>       <th>coef</th>     <th>std err</th>      <th>t</th>      <th>P>|t|</th>  <th>[0.025</th>    <th>0.975]</th>  \n",
       "</tr>\n",
       "<tr>\n",
       "  <th>const</th>  <td>-2.229e+05</td> <td> 2.32e+05</td> <td>   -0.960</td> <td> 0.338</td> <td> -6.8e+05</td> <td> 2.34e+05</td>\n",
       "</tr>\n",
       "<tr>\n",
       "  <th>SQFT</th>   <td>   18.5058</td> <td>    0.447</td> <td>   41.413</td> <td> 0.000</td> <td>   17.627</td> <td>   19.385</td>\n",
       "</tr>\n",
       "<tr>\n",
       "  <th>WKHRS</th>  <td> -399.3867</td> <td>  967.068</td> <td>   -0.413</td> <td> 0.680</td> <td>-2302.093</td> <td> 1503.320</td>\n",
       "</tr>\n",
       "<tr>\n",
       "  <th>NWKER</th>  <td>-7605.1931</td> <td>  264.034</td> <td>  -28.804</td> <td> 0.000</td> <td>-8124.680</td> <td>-7085.706</td>\n",
       "</tr>\n",
       "<tr>\n",
       "  <th>OPEN24</th> <td> -7.31e+04</td> <td> 1.67e+05</td> <td>   -0.438</td> <td> 0.662</td> <td>-4.02e+05</td> <td> 2.56e+05</td>\n",
       "</tr>\n",
       "<tr>\n",
       "  <th>NELVTR</th> <td>-3.532e+05</td> <td>  3.8e+04</td> <td>   -9.302</td> <td> 0.000</td> <td>-4.28e+05</td> <td>-2.79e+05</td>\n",
       "</tr>\n",
       "<tr>\n",
       "  <th>NESLTR</th> <td> 1.223e+06</td> <td> 4.74e+04</td> <td>   25.792</td> <td> 0.000</td> <td> 1.13e+06</td> <td> 1.32e+06</td>\n",
       "</tr>\n",
       "<tr>\n",
       "  <th>RFGEQP</th> <td>-7.172e+04</td> <td> 7.15e+04</td> <td>   -1.002</td> <td> 0.317</td> <td>-2.12e+05</td> <td> 6.91e+04</td>\n",
       "</tr>\n",
       "<tr>\n",
       "  <th>ELHT1</th>  <td> 3.455e+04</td> <td> 5.41e+04</td> <td>    0.639</td> <td> 0.523</td> <td>-7.18e+04</td> <td> 1.41e+05</td>\n",
       "</tr>\n",
       "<tr>\n",
       "  <th>ELCOOL</th> <td>-5.137e+04</td> <td> 8.69e+04</td> <td>   -0.591</td> <td> 0.555</td> <td>-2.22e+05</td> <td>  1.2e+05</td>\n",
       "</tr>\n",
       "<tr>\n",
       "  <th>ELWATR</th> <td> 1.031e+05</td> <td> 4.97e+04</td> <td>    2.076</td> <td> 0.039</td> <td> 5394.925</td> <td> 2.01e+05</td>\n",
       "</tr>\n",
       "<tr>\n",
       "  <th>ELCOOK</th> <td> 3.179e+04</td> <td> 4.97e+04</td> <td>    0.640</td> <td> 0.523</td> <td> -6.6e+04</td> <td>  1.3e+05</td>\n",
       "</tr>\n",
       "<tr>\n",
       "  <th>ELMANU</th> <td> 1.471e+05</td> <td> 2.94e+05</td> <td>    0.499</td> <td> 0.618</td> <td>-4.32e+05</td> <td> 7.26e+05</td>\n",
       "</tr>\n",
       "<tr>\n",
       "  <th>OPNWE</th>  <td> 1.492e+05</td> <td> 2.09e+05</td> <td>    0.713</td> <td> 0.477</td> <td>-2.63e+05</td> <td> 5.61e+05</td>\n",
       "</tr>\n",
       "</table>\n",
       "<table class=\"simpletable\">\n",
       "<tr>\n",
       "  <th>Omnibus:</th>       <td>135.708</td> <th>  Durbin-Watson:     </th> <td>   1.973</td>\n",
       "</tr>\n",
       "<tr>\n",
       "  <th>Prob(Omnibus):</th> <td> 0.000</td>  <th>  Jarque-Bera (JB):  </th> <td>5823.457</td>\n",
       "</tr>\n",
       "<tr>\n",
       "  <th>Skew:</th>          <td>-0.920</td>  <th>  Prob(JB):          </th> <td>    0.00</td>\n",
       "</tr>\n",
       "<tr>\n",
       "  <th>Kurtosis:</th>      <td>23.497</td>  <th>  Cond. No.          </th> <td>1.81e+06</td>\n",
       "</tr>\n",
       "</table>"
      ],
      "text/plain": [
       "<class 'statsmodels.iolib.summary.Summary'>\n",
       "\"\"\"\n",
       "                            OLS Regression Results                            \n",
       "==============================================================================\n",
       "Dep. Variable:                  ELCNS   R-squared:                       0.983\n",
       "Model:                            OLS   Adj. R-squared:                  0.983\n",
       "Method:                 Least Squares   F-statistic:                     1433.\n",
       "Date:                Mon, 02 Apr 2018   Prob (F-statistic):          5.71e-272\n",
       "Time:                        11:51:56   Log-Likelihood:                -4723.6\n",
       "No. Observations:                 330   AIC:                             9475.\n",
       "Df Residuals:                     316   BIC:                             9528.\n",
       "Df Model:                          13                                         \n",
       "Covariance Type:            nonrobust                                         \n",
       "==============================================================================\n",
       "                 coef    std err          t      P>|t|      [0.025      0.975]\n",
       "------------------------------------------------------------------------------\n",
       "const      -2.229e+05   2.32e+05     -0.960      0.338    -6.8e+05    2.34e+05\n",
       "SQFT          18.5058      0.447     41.413      0.000      17.627      19.385\n",
       "WKHRS       -399.3867    967.068     -0.413      0.680   -2302.093    1503.320\n",
       "NWKER      -7605.1931    264.034    -28.804      0.000   -8124.680   -7085.706\n",
       "OPEN24      -7.31e+04   1.67e+05     -0.438      0.662   -4.02e+05    2.56e+05\n",
       "NELVTR     -3.532e+05    3.8e+04     -9.302      0.000   -4.28e+05   -2.79e+05\n",
       "NESLTR      1.223e+06   4.74e+04     25.792      0.000    1.13e+06    1.32e+06\n",
       "RFGEQP     -7.172e+04   7.15e+04     -1.002      0.317   -2.12e+05    6.91e+04\n",
       "ELHT1       3.455e+04   5.41e+04      0.639      0.523   -7.18e+04    1.41e+05\n",
       "ELCOOL     -5.137e+04   8.69e+04     -0.591      0.555   -2.22e+05     1.2e+05\n",
       "ELWATR      1.031e+05   4.97e+04      2.076      0.039    5394.925    2.01e+05\n",
       "ELCOOK      3.179e+04   4.97e+04      0.640      0.523    -6.6e+04     1.3e+05\n",
       "ELMANU      1.471e+05   2.94e+05      0.499      0.618   -4.32e+05    7.26e+05\n",
       "OPNWE       1.492e+05   2.09e+05      0.713      0.477   -2.63e+05    5.61e+05\n",
       "==============================================================================\n",
       "Omnibus:                      135.708   Durbin-Watson:                   1.973\n",
       "Prob(Omnibus):                  0.000   Jarque-Bera (JB):             5823.457\n",
       "Skew:                          -0.920   Prob(JB):                         0.00\n",
       "Kurtosis:                      23.497   Cond. No.                     1.81e+06\n",
       "==============================================================================\n",
       "\n",
       "Warnings:\n",
       "[1] Standard Errors assume that the covariance matrix of the errors is correctly specified.\n",
       "[2] The condition number is large, 1.81e+06. This might indicate that there are\n",
       "strong multicollinearity or other numerical problems.\n",
       "\"\"\""
      ]
     },
     "execution_count": 64,
     "metadata": {},
     "output_type": "execute_result"
    }
   ],
   "source": [
    "#Food Service Model\n",
    "\n",
    "food_serve_df = consump_filtered.loc[consump_filtered['PBA_Detail'] == 'Religious worship']\n",
    "\n",
    "X = food_serve_df[['SQFT', 'WKHRS', 'NWKER','OPEN24','NELVTR', 'NESLTR','RFGEQP', 'ELHT1',\n",
    "                      'ELCOOL', 'ELWATR', 'ELCOOK', 'ELMANU', 'OPNWE']]\n",
    "y = food_serve_df['ELCNS']\n",
    "X = sm.add_constant(X)\n",
    "model = sm.OLS(y, X).fit()\n",
    "#predictions = model.predict(X)\n",
    "model.summary()"
   ]
  },
  {
   "cell_type": "code",
   "execution_count": 65,
   "metadata": {
    "collapsed": false
   },
   "outputs": [
    {
     "data": {
      "text/html": [
       "<table class=\"simpletable\">\n",
       "<caption>OLS Regression Results</caption>\n",
       "<tr>\n",
       "  <th>Dep. Variable:</th>          <td>ELCNS</td>      <th>  R-squared:         </th> <td>   0.785</td> \n",
       "</tr>\n",
       "<tr>\n",
       "  <th>Model:</th>                   <td>OLS</td>       <th>  Adj. R-squared:    </th> <td>   0.780</td> \n",
       "</tr>\n",
       "<tr>\n",
       "  <th>Method:</th>             <td>Least Squares</td>  <th>  F-statistic:       </th> <td>   167.6</td> \n",
       "</tr>\n",
       "<tr>\n",
       "  <th>Date:</th>             <td>Mon, 02 Apr 2018</td> <th>  Prob (F-statistic):</th> <td>2.39e-189</td>\n",
       "</tr>\n",
       "<tr>\n",
       "  <th>Time:</th>                 <td>11:51:56</td>     <th>  Log-Likelihood:    </th> <td> -9743.1</td> \n",
       "</tr>\n",
       "<tr>\n",
       "  <th>No. Observations:</th>      <td>   610</td>      <th>  AIC:               </th> <td>1.951e+04</td>\n",
       "</tr>\n",
       "<tr>\n",
       "  <th>Df Residuals:</th>          <td>   597</td>      <th>  BIC:               </th> <td>1.957e+04</td>\n",
       "</tr>\n",
       "<tr>\n",
       "  <th>Df Model:</th>              <td>    13</td>      <th>                     </th>     <td> </td>    \n",
       "</tr>\n",
       "<tr>\n",
       "  <th>Covariance Type:</th>      <td>nonrobust</td>    <th>                     </th>     <td> </td>    \n",
       "</tr>\n",
       "</table>\n",
       "<table class=\"simpletable\">\n",
       "<tr>\n",
       "     <td></td>       <th>coef</th>     <th>std err</th>      <th>t</th>      <th>P>|t|</th>  <th>[0.025</th>    <th>0.975]</th>  \n",
       "</tr>\n",
       "<tr>\n",
       "  <th>SQFT</th>   <td>    3.6773</td> <td>    0.470</td> <td>    7.826</td> <td> 0.000</td> <td>    2.754</td> <td>    4.600</td>\n",
       "</tr>\n",
       "<tr>\n",
       "  <th>WKHRS</th>  <td> 2461.1421</td> <td> 3163.130</td> <td>    0.778</td> <td> 0.437</td> <td>-3751.073</td> <td> 8673.357</td>\n",
       "</tr>\n",
       "<tr>\n",
       "  <th>NWKER</th>  <td> 8693.4056</td> <td>  837.705</td> <td>   10.378</td> <td> 0.000</td> <td> 7048.198</td> <td> 1.03e+04</td>\n",
       "</tr>\n",
       "<tr>\n",
       "  <th>OPEN24</th> <td> -403.5932</td> <td>  4.3e+05</td> <td>   -0.001</td> <td> 0.999</td> <td>-8.44e+05</td> <td> 8.44e+05</td>\n",
       "</tr>\n",
       "<tr>\n",
       "  <th>NELVTR</th> <td>-2.831e+05</td> <td> 1.59e+05</td> <td>   -1.779</td> <td> 0.076</td> <td>-5.96e+05</td> <td> 2.94e+04</td>\n",
       "</tr>\n",
       "<tr>\n",
       "  <th>NESLTR</th> <td> 2.356e+05</td> <td> 9.49e+04</td> <td>    2.482</td> <td> 0.013</td> <td> 4.92e+04</td> <td> 4.22e+05</td>\n",
       "</tr>\n",
       "<tr>\n",
       "  <th>RFGEQP</th> <td> 6.578e+04</td> <td> 2.18e+05</td> <td>    0.302</td> <td> 0.763</td> <td>-3.63e+05</td> <td> 4.94e+05</td>\n",
       "</tr>\n",
       "<tr>\n",
       "  <th>ELHT1</th>  <td> 2.898e+05</td> <td> 2.02e+05</td> <td>    1.435</td> <td> 0.152</td> <td>-1.07e+05</td> <td> 6.87e+05</td>\n",
       "</tr>\n",
       "<tr>\n",
       "  <th>ELCOOL</th> <td>-2.481e+05</td> <td> 2.44e+05</td> <td>   -1.015</td> <td> 0.311</td> <td>-7.28e+05</td> <td> 2.32e+05</td>\n",
       "</tr>\n",
       "<tr>\n",
       "  <th>ELWATR</th> <td>-2.615e+05</td> <td> 1.93e+05</td> <td>   -1.354</td> <td> 0.176</td> <td>-6.41e+05</td> <td> 1.18e+05</td>\n",
       "</tr>\n",
       "<tr>\n",
       "  <th>ELCOOK</th> <td>-1.685e+05</td> <td> 4.15e+05</td> <td>   -0.406</td> <td> 0.685</td> <td>-9.83e+05</td> <td> 6.46e+05</td>\n",
       "</tr>\n",
       "<tr>\n",
       "  <th>ELMANU</th> <td> 5.631e+05</td> <td> 2.64e+05</td> <td>    2.131</td> <td> 0.033</td> <td> 4.42e+04</td> <td> 1.08e+06</td>\n",
       "</tr>\n",
       "<tr>\n",
       "  <th>OPNWE</th>  <td>-1.628e+05</td> <td> 2.13e+05</td> <td>   -0.763</td> <td> 0.446</td> <td>-5.82e+05</td> <td> 2.56e+05</td>\n",
       "</tr>\n",
       "</table>\n",
       "<table class=\"simpletable\">\n",
       "<tr>\n",
       "  <th>Omnibus:</th>       <td>932.291</td> <th>  Durbin-Watson:     </th>  <td>   2.066</td> \n",
       "</tr>\n",
       "<tr>\n",
       "  <th>Prob(Omnibus):</th> <td> 0.000</td>  <th>  Jarque-Bera (JB):  </th> <td>455263.892</td>\n",
       "</tr>\n",
       "<tr>\n",
       "  <th>Skew:</th>          <td> 8.366</td>  <th>  Prob(JB):          </th>  <td>    0.00</td> \n",
       "</tr>\n",
       "<tr>\n",
       "  <th>Kurtosis:</th>      <td>135.786</td> <th>  Cond. No.          </th>  <td>1.43e+06</td> \n",
       "</tr>\n",
       "</table>"
      ],
      "text/plain": [
       "<class 'statsmodels.iolib.summary.Summary'>\n",
       "\"\"\"\n",
       "                            OLS Regression Results                            \n",
       "==============================================================================\n",
       "Dep. Variable:                  ELCNS   R-squared:                       0.785\n",
       "Model:                            OLS   Adj. R-squared:                  0.780\n",
       "Method:                 Least Squares   F-statistic:                     167.6\n",
       "Date:                Mon, 02 Apr 2018   Prob (F-statistic):          2.39e-189\n",
       "Time:                        11:51:56   Log-Likelihood:                -9743.1\n",
       "No. Observations:                 610   AIC:                         1.951e+04\n",
       "Df Residuals:                     597   BIC:                         1.957e+04\n",
       "Df Model:                          13                                         \n",
       "Covariance Type:            nonrobust                                         \n",
       "==============================================================================\n",
       "                 coef    std err          t      P>|t|      [0.025      0.975]\n",
       "------------------------------------------------------------------------------\n",
       "SQFT           3.6773      0.470      7.826      0.000       2.754       4.600\n",
       "WKHRS       2461.1421   3163.130      0.778      0.437   -3751.073    8673.357\n",
       "NWKER       8693.4056    837.705     10.378      0.000    7048.198    1.03e+04\n",
       "OPEN24      -403.5932    4.3e+05     -0.001      0.999   -8.44e+05    8.44e+05\n",
       "NELVTR     -2.831e+05   1.59e+05     -1.779      0.076   -5.96e+05    2.94e+04\n",
       "NESLTR      2.356e+05   9.49e+04      2.482      0.013    4.92e+04    4.22e+05\n",
       "RFGEQP      6.578e+04   2.18e+05      0.302      0.763   -3.63e+05    4.94e+05\n",
       "ELHT1       2.898e+05   2.02e+05      1.435      0.152   -1.07e+05    6.87e+05\n",
       "ELCOOL     -2.481e+05   2.44e+05     -1.015      0.311   -7.28e+05    2.32e+05\n",
       "ELWATR     -2.615e+05   1.93e+05     -1.354      0.176   -6.41e+05    1.18e+05\n",
       "ELCOOK     -1.685e+05   4.15e+05     -0.406      0.685   -9.83e+05    6.46e+05\n",
       "ELMANU      5.631e+05   2.64e+05      2.131      0.033    4.42e+04    1.08e+06\n",
       "OPNWE      -1.628e+05   2.13e+05     -0.763      0.446   -5.82e+05    2.56e+05\n",
       "==============================================================================\n",
       "Omnibus:                      932.291   Durbin-Watson:                   2.066\n",
       "Prob(Omnibus):                  0.000   Jarque-Bera (JB):           455263.892\n",
       "Skew:                           8.366   Prob(JB):                         0.00\n",
       "Kurtosis:                     135.786   Cond. No.                     1.43e+06\n",
       "==============================================================================\n",
       "\n",
       "Warnings:\n",
       "[1] Standard Errors assume that the covariance matrix of the errors is correctly specified.\n",
       "[2] The condition number is large, 1.43e+06. This might indicate that there are\n",
       "strong multicollinearity or other numerical problems.\n",
       "\"\"\""
      ]
     },
     "execution_count": 65,
     "metadata": {},
     "output_type": "execute_result"
    }
   ],
   "source": [
    "#Nonrefrigerated warehouse Model\n",
    "\n",
    "ware_nofridge_df = consump_filtered.loc[consump_filtered['PBA_Detail'] == 'Nonrefrigerated warehouse']\n",
    "\n",
    "X = ware_nofridge_df[['SQFT', 'WKHRS', 'NWKER','OPEN24','NELVTR', 'NESLTR','RFGEQP', 'ELHT1',\n",
    "                      'ELCOOL', 'ELWATR', 'ELCOOK', 'ELMANU','OPNWE']]\n",
    "y = ware_nofridge_df['ELCNS']\n",
    "model = sm.OLS(y, X).fit()\n",
    "predictions = model.predict(X)\n",
    "model.summary()"
   ]
  },
  {
   "cell_type": "code",
   "execution_count": 66,
   "metadata": {
    "collapsed": false
   },
   "outputs": [
    {
     "data": {
      "text/plain": [
       "SQFT      2.299197e-14\n",
       "WKHRS     4.368350e-01\n",
       "NWKER     2.616030e-23\n",
       "OPEN24    9.992510e-01\n",
       "NELVTR    7.573651e-02\n",
       "NESLTR    1.332501e-02\n",
       "RFGEQP    7.630833e-01\n",
       "ELHT1     1.519137e-01\n",
       "ELCOOL    3.105243e-01\n",
       "ELWATR    1.763452e-01\n",
       "ELCOOK    6.846517e-01\n",
       "ELMANU    3.346907e-02\n",
       "OPNWE     4.460395e-01\n",
       "dtype: float64"
      ]
     },
     "execution_count": 66,
     "metadata": {},
     "output_type": "execute_result"
    }
   ],
   "source": [
    "model.pvalues"
   ]
  },
  {
   "cell_type": "markdown",
   "metadata": {
    "collapsed": true
   },
   "source": [
    "## Production Models"
   ]
  },
  {
   "cell_type": "code",
   "execution_count": 67,
   "metadata": {
    "collapsed": true
   },
   "outputs": [],
   "source": [
    "final_dependent = ['SQFT', 'WKHRS', 'NWKER','OPEN24','NELVTR', 'NESLTR',\n",
    "                   'RFGEQP', 'ELHT1','ELCOOL', 'ELWATR', 'ELCOOK', 'ELMANU', 'OPNWE']"
   ]
  },
  {
   "cell_type": "code",
   "execution_count": 68,
   "metadata": {
    "collapsed": true
   },
   "outputs": [],
   "source": [
    "ols_coefficients = []\n",
    "ols_pvals = []\n",
    "business_vals = []\n",
    "\n",
    "for i in PBA_Dict.keys():\n",
    "    temp_df = consump_filtered.loc[consump_filtered['PBA_Detail'] == PBA_Dict[i]]\n",
    "    \n",
    "    X = temp_df[final_dependent]\n",
    "    y = temp_df['ELCNS']\n",
    "    X = sm.add_constant(X)\n",
    "    \n",
    "    model = sm.OLS(y, X).fit()    \n",
    "    \n",
    "    ols_coefficients.append(model.params) \n",
    "    ols_pvals.append(model.pvalues)\n",
    "    business_vals.append(PBA_Dict[i])\n"
   ]
  },
  {
   "cell_type": "code",
   "execution_count": 69,
   "metadata": {
    "collapsed": true
   },
   "outputs": [],
   "source": [
    "business_df = pd.DataFrame(business_vals)\n",
    "business_df.columns = ['business_type']\n",
    "\n",
    "ols_coef_df = pd.DataFrame(ols_coefficients)\n",
    "ols_coef_df = pd.merge(ols_coef_df,business_df, left_index = True, right_index = True)\n",
    "\n",
    "ols_pvals_df = pd.DataFrame(ols_pvals)\n",
    "ols_pvals_df = pd.merge(ols_pvals_df,business_df, left_index = True, right_index = True)\n",
    "\n",
    "#Create Multiplication Table\n",
    "ols_keepers = ols_pvals_df.where(ols_pvals_df <= 0.10, 0)\n",
    "ols_keepers = ols_keepers.where(ols_keepers <= 0,1)\n",
    "##Make all sqft significant\n",
    "ols_keepers['SQFT'] = ols_keepers['SQFT'].replace(to_replace = 0, value = 1)\n",
    "\n",
    "#Usable Coefficients\n",
    "ols_usable = ols_coef_df*ols_keepers\n",
    "ols_usable = ols_usable.drop(['const', 'business_type'], axis=1)\n",
    "ols_usable = pd.merge(ols_usable, business_df, left_index = True, right_index = True)"
   ]
  },
  {
   "cell_type": "code",
   "execution_count": 70,
   "metadata": {
    "collapsed": true
   },
   "outputs": [],
   "source": [
    "# 20180401: Added by Vincent to generate conefficients file to be consumed in the data lake\n",
    "# Generate csv . files with most updated coefficients\n",
    "ols_usable.to_csv('../../Data/ols_usable.csv')"
   ]
  },
  {
   "cell_type": "code",
   "execution_count": 71,
   "metadata": {
    "collapsed": true
   },
   "outputs": [],
   "source": [
    "def annual_consumption(ols_usable, biz_type, wkrs, sqft, wkhrs = 40,heat=0, cook=0, cool = 0, manu = 0, water = 0, elvr = 0, \n",
    "                       escl=0, opn24=0, rfrd=0, opnwe=0):\n",
    "    \n",
    "    return (ols_usable.loc[ols_usable['business_type'] == biz_type]['ELCOOK'] * cook +\n",
    "            ols_usable.loc[ols_usable['business_type'] == biz_type]['ELCOOL'] * cool +\n",
    "            ols_usable.loc[ols_usable['business_type'] == biz_type]['ELHT1'] * heat +\n",
    "            ols_usable.loc[ols_usable['business_type'] == biz_type]['ELMANU'] * manu +\n",
    "            ols_usable.loc[ols_usable['business_type'] == biz_type]['ELWATR'] * water +\n",
    "            ols_usable.loc[ols_usable['business_type'] == biz_type]['NELVTR'] * elvr +\n",
    "            ols_usable.loc[ols_usable['business_type'] == biz_type]['NESLTR'] * escl +\n",
    "            ols_usable.loc[ols_usable['business_type'] == biz_type]['NWKER'] * wkrs +\n",
    "            ols_usable.loc[ols_usable['business_type'] == biz_type]['OPEN24'] * opn24 +\n",
    "            ols_usable.loc[ols_usable['business_type'] == biz_type]['RFGEQP'] * rfrd +\n",
    "            ols_usable.loc[ols_usable['business_type'] == biz_type]['SQFT'] * sqft +\n",
    "            ols_usable.loc[ols_usable['business_type'] == biz_type]['WKHRS'] * wkhrs +\n",
    "            ols_usable.loc[ols_usable['business_type'] == biz_type]['OPNWE'] * opnwe).iloc[0]\n",
    "    "
   ]
  }
 ],
 "metadata": {
  "anaconda-cloud": {},
  "kernelspec": {
   "display_name": "Python [conda root]",
   "language": "python",
   "name": "conda-root-py"
  },
  "language_info": {
   "codemirror_mode": {
    "name": "ipython",
    "version": 3
   },
   "file_extension": ".py",
   "mimetype": "text/x-python",
   "name": "python",
   "nbconvert_exporter": "python",
   "pygments_lexer": "ipython3",
   "version": "3.5.2"
  }
 },
 "nbformat": 4,
 "nbformat_minor": 2
}
