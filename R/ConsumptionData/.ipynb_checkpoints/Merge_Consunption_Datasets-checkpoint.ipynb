{
 "cells": [
  {
   "cell_type": "code",
   "execution_count": 119,
   "metadata": {
    "collapsed": false
   },
   "outputs": [],
   "source": [
    "import pandas as pd\n",
    "from functools import reduce"
   ]
  },
  {
   "cell_type": "code",
   "execution_count": 120,
   "metadata": {
    "collapsed": false
   },
   "outputs": [],
   "source": [
    "#Read in files 2003 Consumption\n",
    "consump_03_01 = pd.read_csv('2003_Consumption/FILE01.csv')\n",
    "consump_03_01.columns = [col.strip() for col in consump_03_01.columns]\n",
    "consump_03_01 = consump_03_01[['PUBID8', 'REGION8', 'CENDIV8', 'SQFT8', 'PBA8', 'YRCON8', 'FREESTN8'\n",
    "                              ,'GLSSPC8', 'FREESTN8', 'NELVTR8', 'NESLTR8', 'OPEN248', 'WKHRS8',\n",
    "                              'NWKER8']]\n",
    "\n",
    "consump_03_02 = pd.read_csv('2003_Consumption/FILE02.csv')\n",
    "consump_03_02.columns = [col.strip() for col in consump_03_02.columns]\n",
    "consump_03_02 = consump_03_02[['PUBID8', 'ONEACT8']]\n",
    "\n",
    "consump_03_04 = pd.read_csv('2003_Consumption/FILE04.csv')\n",
    "consump_03_04.columns = [col.strip() for col in consump_03_04.columns]\n",
    "consump_03_04 = consump_03_04[['PUBID8','RFGEQP8']]\n",
    "\n",
    "consump_03_05 = pd.read_csv('2003_Consumption/FILE05.csv')\n",
    "consump_03_05.columns = [col.strip() for col in consump_03_05.columns]\n",
    "consump_03_05 = consump_03_05[['PUBID8','ELHT18', 'ELCOOL8','ELWATR8','ELCOOK8','ELMANU8']]\n",
    "\n",
    "consump_03_15 = pd.read_csv('2003_Consumption/FILE15.csv')\n",
    "consump_03_15.columns = [col.strip() for col in consump_03_15.columns]\n",
    "consump_03_15 = consump_03_15[['PUBID8','ELCNS8']]\n",
    "\n",
    "#Merge Dataframes\n",
    "dfs = [consump_03_01, consump_03_02, consump_03_04, consump_03_05, consump_03_15]\n",
    "consump_03 = reduce(lambda left,right: pd.merge(left,right,on='PUBID8'), dfs)\n",
    "\n",
    "consump_03['YEAR'] = 2013"
   ]
  },
  {
   "cell_type": "code",
   "execution_count": 121,
   "metadata": {
    "collapsed": false
   },
   "outputs": [
    {
     "data": {
      "text/plain": [
       "Index(['PUBID8', 'REGION8', 'CENDIV8', 'SQFT8', 'PBA8', 'YRCON8', 'FREESTN8',\n",
       "       'GLSSPC8', 'FREESTN8', 'NELVTR8', 'NESLTR8', 'OPEN248', 'WKHRS8',\n",
       "       'NWKER8', 'ONEACT8', 'RFGEQP8', 'ELHT18', 'ELCOOL8', 'ELWATR8',\n",
       "       'ELCOOK8', 'ELMANU8', 'ELCNS8', 'YEAR'],\n",
       "      dtype='object')"
      ]
     },
     "execution_count": 121,
     "metadata": {},
     "output_type": "execute_result"
    }
   ],
   "source": [
    "consump_03.columns"
   ]
  },
  {
   "cell_type": "code",
   "execution_count": null,
   "metadata": {
    "collapsed": true
   },
   "outputs": [],
   "source": []
  }
 ],
 "metadata": {
  "anaconda-cloud": {},
  "kernelspec": {
   "display_name": "Python [conda root]",
   "language": "python",
   "name": "conda-root-py"
  },
  "language_info": {
   "codemirror_mode": {
    "name": "ipython",
    "version": 3
   },
   "file_extension": ".py",
   "mimetype": "text/x-python",
   "name": "python",
   "nbconvert_exporter": "python",
   "pygments_lexer": "ipython3",
   "version": "3.5.2"
  }
 },
 "nbformat": 4,
 "nbformat_minor": 2
}
